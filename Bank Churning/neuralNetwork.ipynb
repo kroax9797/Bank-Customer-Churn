{
 "cells": [
  {
   "cell_type": "code",
   "execution_count": 1,
   "metadata": {},
   "outputs": [],
   "source": [
    "import numpy as np \n",
    "import pandas as pd "
   ]
  },
  {
   "cell_type": "code",
   "execution_count": 2,
   "metadata": {},
   "outputs": [],
   "source": [
    "data = pd.read_csv('Churn_Modelling.csv')"
   ]
  },
  {
   "cell_type": "code",
   "execution_count": 3,
   "metadata": {},
   "outputs": [
    {
     "data": {
      "text/plain": [
       "RowNumber            int64\n",
       "CustomerId           int64\n",
       "Surname             object\n",
       "CreditScore          int64\n",
       "Geography           object\n",
       "Gender              object\n",
       "Age                  int64\n",
       "Tenure               int64\n",
       "Balance            float64\n",
       "NumOfProducts        int64\n",
       "HasCrCard            int64\n",
       "IsActiveMember       int64\n",
       "EstimatedSalary    float64\n",
       "Exited               int64\n",
       "dtype: object"
      ]
     },
     "execution_count": 3,
     "metadata": {},
     "output_type": "execute_result"
    }
   ],
   "source": [
    "data.dtypes"
   ]
  },
  {
   "cell_type": "code",
   "execution_count": 4,
   "metadata": {},
   "outputs": [],
   "source": [
    "data.drop('RowNumber' , axis = 'columns' , inplace=True)\n",
    "data.drop('CustomerId' , axis = 'columns' , inplace=True)\n",
    "data.drop('Surname' , axis = 'columns' , inplace=True)"
   ]
  },
  {
   "cell_type": "code",
   "execution_count": 5,
   "metadata": {},
   "outputs": [
    {
     "data": {
      "text/plain": [
       "CreditScore          int64\n",
       "Geography           object\n",
       "Gender              object\n",
       "Age                  int64\n",
       "Tenure               int64\n",
       "Balance            float64\n",
       "NumOfProducts        int64\n",
       "HasCrCard            int64\n",
       "IsActiveMember       int64\n",
       "EstimatedSalary    float64\n",
       "Exited               int64\n",
       "dtype: object"
      ]
     },
     "execution_count": 5,
     "metadata": {},
     "output_type": "execute_result"
    }
   ],
   "source": [
    "data.dtypes"
   ]
  },
  {
   "cell_type": "code",
   "execution_count": 6,
   "metadata": {},
   "outputs": [
    {
     "data": {
      "text/plain": [
       "CreditScore            int64\n",
       "Gender                object\n",
       "Age                    int64\n",
       "Tenure                 int64\n",
       "Balance              float64\n",
       "NumOfProducts          int64\n",
       "HasCrCard              int64\n",
       "IsActiveMember         int64\n",
       "EstimatedSalary      float64\n",
       "Exited                 int64\n",
       "Geography_France        bool\n",
       "Geography_Germany       bool\n",
       "Geography_Spain         bool\n",
       "dtype: object"
      ]
     },
     "execution_count": 6,
     "metadata": {},
     "output_type": "execute_result"
    }
   ],
   "source": [
    "data = pd.get_dummies(data = data , columns = ['Geography'])\n",
    "data.dtypes"
   ]
  },
  {
   "cell_type": "code",
   "execution_count": 7,
   "metadata": {},
   "outputs": [
    {
     "data": {
      "text/plain": [
       "CreditScore            int64\n",
       "Gender                object\n",
       "Age                    int64\n",
       "Tenure                 int64\n",
       "Balance              float64\n",
       "NumOfProducts          int64\n",
       "HasCrCard              int64\n",
       "IsActiveMember         int64\n",
       "EstimatedSalary      float64\n",
       "Exited                 int64\n",
       "Geography_France       int64\n",
       "Geography_Germany      int64\n",
       "Geography_Spain        int64\n",
       "dtype: object"
      ]
     },
     "execution_count": 7,
     "metadata": {},
     "output_type": "execute_result"
    }
   ],
   "source": [
    "data.replace({True : 1 , False : 0} , inplace=True)\n",
    "data.dtypes"
   ]
  },
  {
   "cell_type": "code",
   "execution_count": 8,
   "metadata": {},
   "outputs": [
    {
     "data": {
      "text/plain": [
       "CreditScore            int64\n",
       "Gender                 int64\n",
       "Age                    int64\n",
       "Tenure                 int64\n",
       "Balance              float64\n",
       "NumOfProducts          int64\n",
       "HasCrCard              int64\n",
       "IsActiveMember         int64\n",
       "EstimatedSalary      float64\n",
       "Exited                 int64\n",
       "Geography_France       int64\n",
       "Geography_Germany      int64\n",
       "Geography_Spain        int64\n",
       "dtype: object"
      ]
     },
     "execution_count": 8,
     "metadata": {},
     "output_type": "execute_result"
    }
   ],
   "source": [
    "data['Gender'].replace({'Male' : 1 , 'Female' : 0} , inplace=True)\n",
    "data.dtypes"
   ]
  },
  {
   "cell_type": "code",
   "execution_count": 9,
   "metadata": {},
   "outputs": [
    {
     "data": {
      "text/html": [
       "<div>\n",
       "<style scoped>\n",
       "    .dataframe tbody tr th:only-of-type {\n",
       "        vertical-align: middle;\n",
       "    }\n",
       "\n",
       "    .dataframe tbody tr th {\n",
       "        vertical-align: top;\n",
       "    }\n",
       "\n",
       "    .dataframe thead th {\n",
       "        text-align: right;\n",
       "    }\n",
       "</style>\n",
       "<table border=\"1\" class=\"dataframe\">\n",
       "  <thead>\n",
       "    <tr style=\"text-align: right;\">\n",
       "      <th></th>\n",
       "      <th>CreditScore</th>\n",
       "      <th>Gender</th>\n",
       "      <th>Age</th>\n",
       "      <th>Tenure</th>\n",
       "      <th>Balance</th>\n",
       "      <th>NumOfProducts</th>\n",
       "      <th>HasCrCard</th>\n",
       "      <th>IsActiveMember</th>\n",
       "      <th>EstimatedSalary</th>\n",
       "      <th>Exited</th>\n",
       "      <th>Geography_France</th>\n",
       "      <th>Geography_Germany</th>\n",
       "      <th>Geography_Spain</th>\n",
       "    </tr>\n",
       "  </thead>\n",
       "  <tbody>\n",
       "    <tr>\n",
       "      <th>2297</th>\n",
       "      <td>709</td>\n",
       "      <td>0</td>\n",
       "      <td>40</td>\n",
       "      <td>9</td>\n",
       "      <td>131569.63</td>\n",
       "      <td>1</td>\n",
       "      <td>1</td>\n",
       "      <td>1</td>\n",
       "      <td>103970.58</td>\n",
       "      <td>0</td>\n",
       "      <td>1</td>\n",
       "      <td>0</td>\n",
       "      <td>0</td>\n",
       "    </tr>\n",
       "    <tr>\n",
       "      <th>6568</th>\n",
       "      <td>724</td>\n",
       "      <td>1</td>\n",
       "      <td>54</td>\n",
       "      <td>8</td>\n",
       "      <td>172192.49</td>\n",
       "      <td>1</td>\n",
       "      <td>1</td>\n",
       "      <td>1</td>\n",
       "      <td>136902.01</td>\n",
       "      <td>0</td>\n",
       "      <td>0</td>\n",
       "      <td>1</td>\n",
       "      <td>0</td>\n",
       "    </tr>\n",
       "    <tr>\n",
       "      <th>7220</th>\n",
       "      <td>718</td>\n",
       "      <td>1</td>\n",
       "      <td>40</td>\n",
       "      <td>9</td>\n",
       "      <td>0.00</td>\n",
       "      <td>2</td>\n",
       "      <td>0</td>\n",
       "      <td>0</td>\n",
       "      <td>121537.91</td>\n",
       "      <td>0</td>\n",
       "      <td>0</td>\n",
       "      <td>0</td>\n",
       "      <td>1</td>\n",
       "    </tr>\n",
       "  </tbody>\n",
       "</table>\n",
       "</div>"
      ],
      "text/plain": [
       "      CreditScore  Gender  Age  Tenure    Balance  NumOfProducts  HasCrCard  \\\n",
       "2297          709       0   40       9  131569.63              1          1   \n",
       "6568          724       1   54       8  172192.49              1          1   \n",
       "7220          718       1   40       9       0.00              2          0   \n",
       "\n",
       "      IsActiveMember  EstimatedSalary  Exited  Geography_France  \\\n",
       "2297               1        103970.58       0                 1   \n",
       "6568               1        136902.01       0                 0   \n",
       "7220               0        121537.91       0                 0   \n",
       "\n",
       "      Geography_Germany  Geography_Spain  \n",
       "2297                  0                0  \n",
       "6568                  1                0  \n",
       "7220                  0                1  "
      ]
     },
     "execution_count": 9,
     "metadata": {},
     "output_type": "execute_result"
    }
   ],
   "source": [
    "data.sample(3)"
   ]
  },
  {
   "cell_type": "code",
   "execution_count": 10,
   "metadata": {},
   "outputs": [],
   "source": [
    "cols_to_scale = ['CreditScore' , 'Age' , 'Tenure' , 'Balance' , 'NumOfProducts' , 'EstimatedSalary']\n",
    "from sklearn.preprocessing import MinMaxScaler\n",
    "scaler = MinMaxScaler()\n",
    "data[cols_to_scale] = scaler.fit_transform(data[cols_to_scale])"
   ]
  },
  {
   "cell_type": "code",
   "execution_count": 11,
   "metadata": {},
   "outputs": [
    {
     "data": {
      "text/plain": [
       "CreditScore          float64\n",
       "Gender                 int64\n",
       "Age                  float64\n",
       "Tenure               float64\n",
       "Balance              float64\n",
       "NumOfProducts        float64\n",
       "HasCrCard              int64\n",
       "IsActiveMember         int64\n",
       "EstimatedSalary      float64\n",
       "Exited                 int64\n",
       "Geography_France       int64\n",
       "Geography_Germany      int64\n",
       "Geography_Spain        int64\n",
       "dtype: object"
      ]
     },
     "execution_count": 11,
     "metadata": {},
     "output_type": "execute_result"
    }
   ],
   "source": [
    "data.dtypes"
   ]
  },
  {
   "cell_type": "code",
   "execution_count": 12,
   "metadata": {},
   "outputs": [
    {
     "name": "stdout",
     "output_type": "stream",
     "text": [
      "(10000, 12) (10000,)\n"
     ]
    }
   ],
   "source": [
    "x = data.drop('Exited' , axis='columns')\n",
    "y = data['Exited']\n",
    "\n",
    "print(x.shape , y.shape)"
   ]
  },
  {
   "cell_type": "code",
   "execution_count": 13,
   "metadata": {},
   "outputs": [
    {
     "name": "stdout",
     "output_type": "stream",
     "text": [
      "(1000, 12) (1000,)\n",
      "Exited\n",
      "0    812\n",
      "1    188\n",
      "Name: count, dtype: int64\n",
      "CreditScore          float64\n",
      "Gender                 int64\n",
      "Age                  float64\n",
      "Tenure               float64\n",
      "Balance              float64\n",
      "NumOfProducts        float64\n",
      "HasCrCard              int64\n",
      "IsActiveMember         int64\n",
      "EstimatedSalary      float64\n",
      "Geography_France       int64\n",
      "Geography_Germany      int64\n",
      "Geography_Spain        int64\n",
      "dtype: object\n"
     ]
    }
   ],
   "source": [
    "from sklearn.model_selection import train_test_split\n",
    "x_train , x_test , y_train , y_test = train_test_split(x , y , test_size=0.1)\n",
    "print(x_test.shape , y_test.shape)\n",
    "print(y_test.value_counts())\n",
    "print(x_train.dtypes)"
   ]
  },
  {
   "cell_type": "code",
   "execution_count": 14,
   "metadata": {},
   "outputs": [
    {
     "name": "stdout",
     "output_type": "stream",
     "text": [
      "Epoch 1/10\n",
      "282/282 [==============================] - 2s 2ms/step - loss: 0.1522 - accuracy: 0.8022\n",
      "Epoch 2/10\n",
      "282/282 [==============================] - 1s 3ms/step - loss: 0.1325 - accuracy: 0.8259\n",
      "Epoch 3/10\n",
      "282/282 [==============================] - 1s 3ms/step - loss: 0.1217 - accuracy: 0.8419\n",
      "Epoch 4/10\n",
      "282/282 [==============================] - 1s 3ms/step - loss: 0.1131 - accuracy: 0.8527\n",
      "Epoch 5/10\n",
      "282/282 [==============================] - 1s 3ms/step - loss: 0.1089 - accuracy: 0.8560\n",
      "Epoch 6/10\n",
      "282/282 [==============================] - 1s 3ms/step - loss: 0.1092 - accuracy: 0.8550\n",
      "Epoch 7/10\n",
      "282/282 [==============================] - 1s 4ms/step - loss: 0.1073 - accuracy: 0.8568\n",
      "Epoch 8/10\n",
      "282/282 [==============================] - 1s 4ms/step - loss: 0.1054 - accuracy: 0.8593\n",
      "Epoch 9/10\n",
      "282/282 [==============================] - 1s 4ms/step - loss: 0.1055 - accuracy: 0.8573\n",
      "Epoch 10/10\n",
      "282/282 [==============================] - 3s 11ms/step - loss: 0.1036 - accuracy: 0.8636\n"
     ]
    },
    {
     "data": {
      "text/plain": [
       "<keras.src.callbacks.History at 0x22004f51510>"
      ]
     },
     "execution_count": 14,
     "metadata": {},
     "output_type": "execute_result"
    }
   ],
   "source": [
    "import tensorflow as tf \n",
    "from tensorflow import keras \n",
    "\n",
    "neuralNetwork = keras.Sequential([\n",
    "    keras.layers.Dense(120 , input_shape=(12,) , activation='relu'),\n",
    "    keras.layers.Dense(50 , activation='relu'),\n",
    "    keras.layers.Dense(20 , activation='relu'),\n",
    "    keras.layers.Dense(10 , activation='relu'),\n",
    "    keras.layers.Dense(5 , activation='relu'),\n",
    "    keras.layers.Dense(1 , activation='sigmoid')    \n",
    "])\n",
    "\n",
    "neuralNetwork.compile(\n",
    "    optimizer='adam',\n",
    "    loss = 'mean_squared_error',\n",
    "    metrics=['accuracy']\n",
    ")\n",
    "\n",
    "neuralNetwork.fit(x_train , y_train , epochs = 10)"
   ]
  },
  {
   "cell_type": "code",
   "execution_count": 15,
   "metadata": {},
   "outputs": [
    {
     "name": "stdout",
     "output_type": "stream",
     "text": [
      "32/32 [==============================] - 2s 9ms/step - loss: 0.1018 - accuracy: 0.8650\n",
      "32/32 [==============================] - 1s 4ms/step\n",
      "              precision    recall  f1-score   support\n",
      "\n",
      "         0.0       0.98      0.87      0.92       921\n",
      "         1.0       0.35      0.84      0.49        79\n",
      "\n",
      "    accuracy                           0.86      1000\n",
      "   macro avg       0.67      0.85      0.71      1000\n",
      "weighted avg       0.93      0.86      0.89      1000\n",
      "\n"
     ]
    }
   ],
   "source": [
    "neuralNetwork.evaluate(x_test , y_test)\n",
    "y_prediction = np.round(neuralNetwork.predict(x_test))\n",
    "from sklearn.metrics import classification_report\n",
    "print(classification_report(y_prediction , y_test))\n",
    "\n",
    "#Prediction that the customer wont leave is done with high f1score , prediction about leaving is prety dicey"
   ]
  },
  {
   "cell_type": "code",
   "execution_count": 16,
   "metadata": {},
   "outputs": [
    {
     "data": {
      "image/png": "[encoded data removed]",
      "text/plain": [
       "<Figure size 1000x700 with 2 Axes>"
      ]
     },
     "metadata": {},
     "output_type": "display_data"
    }
   ],
   "source": [
    "import seaborn as sn\n",
    "import matplotlib.pyplot as plt\n",
    "cm = tf.math.confusion_matrix(labels = y_test , predictions = y_prediction)\n",
    "plt.figure(figsize=(10,7))\n",
    "sn.heatmap(cm , annot = True , fmt = 'd')\n",
    "plt.xlabel('Predicted')\n",
    "plt.ylabel('Truth')\n",
    "plt.show()"
   ]
  },
  {
   "cell_type": "code",
   "execution_count": 17,
   "metadata": {},
   "outputs": [
    {
     "data": {
      "text/plain": [
       "Exited\n",
       "0    812\n",
       "1    188\n",
       "Name: count, dtype: int64"
      ]
     },
     "execution_count": 17,
     "metadata": {},
     "output_type": "execute_result"
    }
   ],
   "source": [
    "y_test.value_counts()"
   ]
  },
  {
   "cell_type": "code",
   "execution_count": 18,
   "metadata": {},
   "outputs": [
    {
     "data": {
      "text/plain": [
       "CreditScore          float64\n",
       "Gender                 int64\n",
       "Age                  float64\n",
       "Tenure               float64\n",
       "Balance              float64\n",
       "NumOfProducts        float64\n",
       "HasCrCard              int64\n",
       "IsActiveMember         int64\n",
       "EstimatedSalary      float64\n",
       "Exited                 int64\n",
       "Geography_France       int64\n",
       "Geography_Germany      int64\n",
       "Geography_Spain        int64\n",
       "dtype: object"
      ]
     },
     "execution_count": 18,
     "metadata": {},
     "output_type": "execute_result"
    }
   ],
   "source": [
    "#### Equal number of both classifications \n",
    "data.dtypes\n"
   ]
  },
  {
   "cell_type": "code",
   "execution_count": 19,
   "metadata": {},
   "outputs": [
    {
     "data": {
      "text/plain": [
       "((7963, 13), (2037, 13))"
      ]
     },
     "execution_count": 19,
     "metadata": {},
     "output_type": "execute_result"
    }
   ],
   "source": [
    "data_0 = data[data['Exited'] == 0]\n",
    "data_1 = data[data['Exited'] == 1]\n",
    "count_class_0 , count_class_1 = data.Exited.value_counts()\n",
    "data_0.shape , data_1.shape"
   ]
  },
  {
   "cell_type": "code",
   "execution_count": 20,
   "metadata": {},
   "outputs": [
    {
     "name": "stdout",
     "output_type": "stream",
     "text": [
      "Exited\n",
      "1    2037\n",
      "0    2037\n",
      "Name: count, dtype: int64\n"
     ]
    }
   ],
   "source": [
    "data_0_under = data_0.sample(count_class_1)\n",
    "data_0_full = pd.concat([data_1 , data_0_under] , axis = 0)\n",
    "print(data_0_full.Exited.value_counts())"
   ]
  },
  {
   "cell_type": "code",
   "execution_count": 21,
   "metadata": {},
   "outputs": [],
   "source": [
    "ux = data_0_full.drop('Exited' , axis = 'columns')\n",
    "uy = data_0_full['Exited']"
   ]
  },
  {
   "cell_type": "code",
   "execution_count": 22,
   "metadata": {},
   "outputs": [
    {
     "data": {
      "text/plain": [
       "Exited\n",
       "1    1630\n",
       "0    1629\n",
       "Name: count, dtype: int64"
      ]
     },
     "execution_count": 22,
     "metadata": {},
     "output_type": "execute_result"
    }
   ],
   "source": [
    "ux_train , ux_test , uy_train , uy_test = train_test_split(ux , uy , test_size = 0.2 , random_state=15 , stratify=uy)\n",
    "uy_train.value_counts()"
   ]
  },
  {
   "cell_type": "code",
   "execution_count": 23,
   "metadata": {},
   "outputs": [
    {
     "name": "stdout",
     "output_type": "stream",
     "text": [
      "Epoch 1/50\n",
      " 29/102 [=======>......................] - ETA: 0s - loss: 0.1803 - accuracy: 0.7328"
     ]
    },
    {
     "name": "stdout",
     "output_type": "stream",
     "text": [
      "102/102 [==============================] - 0s 2ms/step - loss: 0.1644 - accuracy: 0.7622\n",
      "Epoch 2/50\n",
      "102/102 [==============================] - 0s 1ms/step - loss: 0.1555 - accuracy: 0.7708\n",
      "Epoch 3/50\n",
      "102/102 [==============================] - 0s 2ms/step - loss: 0.1507 - accuracy: 0.7763\n",
      "Epoch 4/50\n",
      "102/102 [==============================] - 0s 1ms/step - loss: 0.1503 - accuracy: 0.7791\n",
      "Epoch 5/50\n",
      "102/102 [==============================] - 0s 2ms/step - loss: 0.1477 - accuracy: 0.7867\n",
      "Epoch 6/50\n",
      "102/102 [==============================] - 0s 1ms/step - loss: 0.1455 - accuracy: 0.7898\n",
      "Epoch 7/50\n",
      "102/102 [==============================] - 0s 1ms/step - loss: 0.1456 - accuracy: 0.7907\n",
      "Epoch 8/50\n",
      "102/102 [==============================] - 0s 1ms/step - loss: 0.1442 - accuracy: 0.7938\n",
      "Epoch 9/50\n",
      "102/102 [==============================] - 0s 1ms/step - loss: 0.1428 - accuracy: 0.7947\n",
      "Epoch 10/50\n",
      "102/102 [==============================] - 0s 1ms/step - loss: 0.1409 - accuracy: 0.7972\n",
      "Epoch 11/50\n",
      "102/102 [==============================] - 0s 1ms/step - loss: 0.1404 - accuracy: 0.7950\n",
      "Epoch 12/50\n",
      "102/102 [==============================] - 0s 1ms/step - loss: 0.1399 - accuracy: 0.7990\n",
      "Epoch 13/50\n",
      "102/102 [==============================] - 0s 1ms/step - loss: 0.1396 - accuracy: 0.8030\n",
      "Epoch 14/50\n",
      "102/102 [==============================] - 0s 1ms/step - loss: 0.1369 - accuracy: 0.8027\n",
      "Epoch 15/50\n",
      "102/102 [==============================] - 0s 1ms/step - loss: 0.1369 - accuracy: 0.8061\n",
      "Epoch 16/50\n",
      "102/102 [==============================] - 0s 1ms/step - loss: 0.1358 - accuracy: 0.8070\n",
      "Epoch 17/50\n",
      "102/102 [==============================] - 0s 1ms/step - loss: 0.1355 - accuracy: 0.8027\n",
      "Epoch 18/50\n",
      "102/102 [==============================] - 0s 1ms/step - loss: 0.1333 - accuracy: 0.8088\n",
      "Epoch 19/50\n",
      "102/102 [==============================] - 0s 2ms/step - loss: 0.1322 - accuracy: 0.8141\n",
      "Epoch 20/50\n",
      "102/102 [==============================] - 0s 2ms/step - loss: 0.1320 - accuracy: 0.8107\n",
      "Epoch 21/50\n",
      "102/102 [==============================] - 0s 2ms/step - loss: 0.1304 - accuracy: 0.8174\n",
      "Epoch 22/50\n",
      "102/102 [==============================] - 0s 2ms/step - loss: 0.1291 - accuracy: 0.8177\n",
      "Epoch 23/50\n",
      "102/102 [==============================] - 0s 3ms/step - loss: 0.1301 - accuracy: 0.8131\n",
      "Epoch 24/50\n",
      "102/102 [==============================] - 0s 2ms/step - loss: 0.1294 - accuracy: 0.8162\n",
      "Epoch 25/50\n",
      "102/102 [==============================] - 0s 2ms/step - loss: 0.1284 - accuracy: 0.8141\n",
      "Epoch 26/50\n",
      "102/102 [==============================] - 0s 2ms/step - loss: 0.1294 - accuracy: 0.8174\n",
      "Epoch 27/50\n",
      "102/102 [==============================] - 0s 2ms/step - loss: 0.1251 - accuracy: 0.8242\n",
      "Epoch 28/50\n",
      "102/102 [==============================] - 0s 2ms/step - loss: 0.1258 - accuracy: 0.8196\n",
      "Epoch 29/50\n",
      "102/102 [==============================] - 0s 2ms/step - loss: 0.1265 - accuracy: 0.8180\n",
      "Epoch 30/50\n",
      "102/102 [==============================] - 0s 2ms/step - loss: 0.1242 - accuracy: 0.8226\n",
      "Epoch 31/50\n",
      "102/102 [==============================] - 0s 2ms/step - loss: 0.1235 - accuracy: 0.8248\n",
      "Epoch 32/50\n",
      "102/102 [==============================] - 0s 2ms/step - loss: 0.1238 - accuracy: 0.8214\n",
      "Epoch 33/50\n",
      "102/102 [==============================] - 0s 2ms/step - loss: 0.1211 - accuracy: 0.8294\n",
      "Epoch 34/50\n",
      "102/102 [==============================] - 0s 2ms/step - loss: 0.1193 - accuracy: 0.8361\n",
      "Epoch 35/50\n",
      "102/102 [==============================] - 0s 2ms/step - loss: 0.1215 - accuracy: 0.8263\n",
      "Epoch 36/50\n",
      "102/102 [==============================] - 0s 2ms/step - loss: 0.1188 - accuracy: 0.8331\n",
      "Epoch 37/50\n",
      "102/102 [==============================] - 0s 2ms/step - loss: 0.1184 - accuracy: 0.8349\n",
      "Epoch 38/50\n",
      "102/102 [==============================] - 0s 2ms/step - loss: 0.1156 - accuracy: 0.8352\n",
      "Epoch 39/50\n",
      "102/102 [==============================] - 0s 2ms/step - loss: 0.1150 - accuracy: 0.8435\n",
      "Epoch 40/50\n",
      "102/102 [==============================] - 0s 2ms/step - loss: 0.1180 - accuracy: 0.8368\n",
      "Epoch 41/50\n",
      "102/102 [==============================] - 0s 2ms/step - loss: 0.1158 - accuracy: 0.8349\n",
      "Epoch 42/50\n",
      "102/102 [==============================] - 0s 2ms/step - loss: 0.1127 - accuracy: 0.8432\n",
      "Epoch 43/50\n",
      "102/102 [==============================] - 0s 2ms/step - loss: 0.1135 - accuracy: 0.8417\n",
      "Epoch 44/50\n",
      "102/102 [==============================] - 0s 2ms/step - loss: 0.1106 - accuracy: 0.8496\n",
      "Epoch 45/50\n",
      "102/102 [==============================] - 0s 2ms/step - loss: 0.1099 - accuracy: 0.8490\n",
      "Epoch 46/50\n",
      "102/102 [==============================] - 0s 2ms/step - loss: 0.1101 - accuracy: 0.8447\n",
      "Epoch 47/50\n",
      "102/102 [==============================] - 0s 2ms/step - loss: 0.1085 - accuracy: 0.8490\n",
      "Epoch 48/50\n",
      "102/102 [==============================] - 0s 2ms/step - loss: 0.1089 - accuracy: 0.8435\n",
      "Epoch 49/50\n",
      "102/102 [==============================] - 0s 2ms/step - loss: 0.1068 - accuracy: 0.8509\n",
      "Epoch 50/50\n",
      "102/102 [==============================] - 0s 2ms/step - loss: 0.1061 - accuracy: 0.8555\n"
     ]
    },
    {
     "data": {
      "text/plain": [
       "<keras.src.callbacks.History at 0x2200cefd7d0>"
      ]
     },
     "execution_count": 23,
     "metadata": {},
     "output_type": "execute_result"
    }
   ],
   "source": [
    "neuralNetwork.fit(ux_train , uy_train , epochs = 50)"
   ]
  },
  {
   "cell_type": "code",
   "execution_count": 24,
   "metadata": {},
   "outputs": [
    {
     "name": "stdout",
     "output_type": "stream",
     "text": [
      "26/26 [==============================] - 0s 2ms/step - loss: 0.1869 - accuracy: 0.7337\n",
      "26/26 [==============================] - 0s 960us/step\n",
      "              precision    recall  f1-score   support\n",
      "\n",
      "         0.0       0.74      0.73      0.74       415\n",
      "         1.0       0.72      0.74      0.73       400\n",
      "\n",
      "    accuracy                           0.73       815\n",
      "   macro avg       0.73      0.73      0.73       815\n",
      "weighted avg       0.73      0.73      0.73       815\n",
      "\n"
     ]
    }
   ],
   "source": [
    "neuralNetwork.evaluate(ux_test , uy_test)\n",
    "uy_prediction = np.round(neuralNetwork.predict(ux_test))\n",
    "from sklearn.metrics import classification_report\n",
    "print(classification_report(uy_prediction , uy_test))\n",
    "### here f1_score went equal for majority and minority class "
   ]
  },
  {
   "cell_type": "code",
   "execution_count": 25,
   "metadata": {},
   "outputs": [
    {
     "data": {
      "image/png": "[encoded data removed]",
      "text/plain": [
       "<Figure size 1000x700 with 2 Axes>"
      ]
     },
     "metadata": {},
     "output_type": "display_data"
    }
   ],
   "source": [
    "cm = tf.math.confusion_matrix(labels = uy_test , predictions = uy_prediction)\n",
    "plt.figure(figsize=(10,7))\n",
    "sn.heatmap(cm , annot = True , fmt = 'd')\n",
    "plt.xlabel('Predicted')\n",
    "plt.ylabel('Truth')\n",
    "plt.show()"
   ]
  },
  {
   "cell_type": "code",
   "execution_count": 26,
   "metadata": {},
   "outputs": [],
   "source": [
    "#### OVERSAMPLING"
   ]
  },
  {
   "cell_type": "code",
   "execution_count": 27,
   "metadata": {},
   "outputs": [
    {
     "data": {
      "text/plain": [
       "(7963, 13)"
      ]
     },
     "execution_count": 27,
     "metadata": {},
     "output_type": "execute_result"
    }
   ],
   "source": [
    "count_class_0 , count_class_1\n",
    "data_1_over = data_1.sample(count_class_0 , replace = True)\n",
    "data_1_over.shape"
   ]
  },
  {
   "cell_type": "code",
   "execution_count": 28,
   "metadata": {},
   "outputs": [],
   "source": [
    "data_over = pd.concat([data_0 , data_1_over], axis = 0)\n",
    "oy = data['Exited']\n",
    "ox = data.drop('Exited' , axis='columns')"
   ]
  },
  {
   "cell_type": "code",
   "execution_count": 29,
   "metadata": {},
   "outputs": [
    {
     "name": "stdout",
     "output_type": "stream",
     "text": [
      "Epoch 1/50\n",
      "250/250 [==============================] - 0s 2ms/step - loss: 0.1058 - accuracy: 0.8569\n",
      "Epoch 2/50\n",
      "250/250 [==============================] - 1s 3ms/step - loss: 0.1000 - accuracy: 0.8654\n",
      "Epoch 3/50\n",
      "250/250 [==============================] - 1s 3ms/step - loss: 0.0961 - accuracy: 0.8711\n",
      "Epoch 4/50\n",
      "250/250 [==============================] - 1s 2ms/step - loss: 0.0961 - accuracy: 0.8692\n",
      "Epoch 5/50\n",
      "250/250 [==============================] - 0s 2ms/step - loss: 0.0952 - accuracy: 0.8705\n",
      "Epoch 6/50\n",
      "250/250 [==============================] - 1s 2ms/step - loss: 0.0939 - accuracy: 0.8770\n",
      "Epoch 7/50\n",
      "250/250 [==============================] - 0s 2ms/step - loss: 0.0937 - accuracy: 0.8744\n",
      "Epoch 8/50\n",
      "250/250 [==============================] - 0s 2ms/step - loss: 0.0926 - accuracy: 0.8745\n",
      "Epoch 9/50\n",
      "250/250 [==============================] - 0s 1ms/step - loss: 0.0916 - accuracy: 0.8761\n",
      "Epoch 10/50\n",
      "250/250 [==============================] - 0s 1ms/step - loss: 0.0910 - accuracy: 0.8800\n",
      "Epoch 11/50\n",
      "250/250 [==============================] - 0s 2ms/step - loss: 0.0907 - accuracy: 0.8825\n",
      "Epoch 12/50\n",
      "250/250 [==============================] - 0s 1ms/step - loss: 0.0905 - accuracy: 0.8802\n",
      "Epoch 13/50\n",
      "250/250 [==============================] - 0s 1ms/step - loss: 0.0886 - accuracy: 0.8839\n",
      "Epoch 14/50\n",
      "250/250 [==============================] - 0s 1ms/step - loss: 0.0891 - accuracy: 0.8824\n",
      "Epoch 15/50\n",
      "250/250 [==============================] - 0s 1ms/step - loss: 0.0876 - accuracy: 0.8854\n",
      "Epoch 16/50\n",
      "250/250 [==============================] - 0s 2ms/step - loss: 0.0866 - accuracy: 0.8876\n",
      "Epoch 17/50\n",
      "250/250 [==============================] - 0s 1ms/step - loss: 0.0862 - accuracy: 0.8863\n",
      "Epoch 18/50\n",
      "250/250 [==============================] - 0s 1ms/step - loss: 0.0861 - accuracy: 0.8874\n",
      "Epoch 19/50\n",
      "250/250 [==============================] - 0s 1ms/step - loss: 0.0863 - accuracy: 0.8866\n",
      "Epoch 20/50\n",
      "250/250 [==============================] - 0s 1ms/step - loss: 0.0846 - accuracy: 0.8891\n",
      "Epoch 21/50\n",
      "250/250 [==============================] - 0s 1ms/step - loss: 0.0836 - accuracy: 0.8919\n",
      "Epoch 22/50\n",
      "250/250 [==============================] - 0s 2ms/step - loss: 0.0836 - accuracy: 0.8916\n",
      "Epoch 23/50\n",
      "250/250 [==============================] - 1s 2ms/step - loss: 0.0829 - accuracy: 0.8917\n",
      "Epoch 24/50\n",
      "250/250 [==============================] - 0s 2ms/step - loss: 0.0834 - accuracy: 0.8926\n",
      "Epoch 25/50\n",
      "250/250 [==============================] - 0s 1ms/step - loss: 0.0822 - accuracy: 0.8949\n",
      "Epoch 26/50\n",
      "250/250 [==============================] - 0s 1ms/step - loss: 0.0812 - accuracy: 0.8955\n",
      "Epoch 27/50\n",
      "250/250 [==============================] - 0s 1ms/step - loss: 0.0809 - accuracy: 0.8975\n",
      "Epoch 28/50\n",
      "250/250 [==============================] - 0s 1ms/step - loss: 0.0807 - accuracy: 0.8969\n",
      "Epoch 29/50\n",
      "250/250 [==============================] - 0s 1ms/step - loss: 0.0789 - accuracy: 0.8976\n",
      "Epoch 30/50\n",
      "250/250 [==============================] - 0s 1ms/step - loss: 0.0791 - accuracy: 0.8994\n",
      "Epoch 31/50\n",
      "250/250 [==============================] - 0s 1ms/step - loss: 0.0783 - accuracy: 0.8999\n",
      "Epoch 32/50\n",
      "250/250 [==============================] - 0s 1ms/step - loss: 0.0778 - accuracy: 0.9013\n",
      "Epoch 33/50\n",
      "250/250 [==============================] - 0s 2ms/step - loss: 0.0765 - accuracy: 0.9019\n",
      "Epoch 34/50\n",
      "250/250 [==============================] - 0s 1ms/step - loss: 0.0766 - accuracy: 0.9025\n",
      "Epoch 35/50\n",
      "250/250 [==============================] - 0s 2ms/step - loss: 0.0754 - accuracy: 0.9043\n",
      "Epoch 36/50\n",
      "250/250 [==============================] - 1s 2ms/step - loss: 0.0749 - accuracy: 0.9055\n",
      "Epoch 37/50\n",
      "250/250 [==============================] - 1s 2ms/step - loss: 0.0747 - accuracy: 0.9051\n",
      "Epoch 38/50\n",
      "250/250 [==============================] - 1s 2ms/step - loss: 0.0739 - accuracy: 0.9075\n",
      "Epoch 39/50\n",
      "250/250 [==============================] - 1s 2ms/step - loss: 0.0745 - accuracy: 0.9060\n",
      "Epoch 40/50\n",
      "250/250 [==============================] - 0s 2ms/step - loss: 0.0728 - accuracy: 0.9099\n",
      "Epoch 41/50\n",
      "250/250 [==============================] - 0s 2ms/step - loss: 0.0717 - accuracy: 0.9122\n",
      "Epoch 42/50\n",
      "250/250 [==============================] - 0s 1ms/step - loss: 0.0711 - accuracy: 0.9129\n",
      "Epoch 43/50\n",
      "250/250 [==============================] - 0s 1ms/step - loss: 0.0726 - accuracy: 0.9084\n",
      "Epoch 44/50\n",
      "250/250 [==============================] - 0s 1ms/step - loss: 0.0718 - accuracy: 0.9081\n",
      "Epoch 45/50\n",
      "250/250 [==============================] - 0s 1ms/step - loss: 0.0704 - accuracy: 0.9129\n",
      "Epoch 46/50\n",
      "250/250 [==============================] - 0s 1ms/step - loss: 0.0702 - accuracy: 0.9112\n",
      "Epoch 47/50\n",
      "250/250 [==============================] - 0s 1ms/step - loss: 0.0695 - accuracy: 0.9122\n",
      "Epoch 48/50\n",
      "250/250 [==============================] - 0s 1ms/step - loss: 0.0692 - accuracy: 0.9137\n",
      "Epoch 49/50\n",
      "250/250 [==============================] - 0s 2ms/step - loss: 0.0701 - accuracy: 0.9118\n",
      "Epoch 50/50\n",
      "250/250 [==============================] - 0s 1ms/step - loss: 0.0673 - accuracy: 0.9170\n"
     ]
    },
    {
     "data": {
      "text/plain": [
       "<keras.src.callbacks.History at 0x2200d0ef3d0>"
      ]
     },
     "execution_count": 29,
     "metadata": {},
     "output_type": "execute_result"
    }
   ],
   "source": [
    "ox_train , ox_test , oy_train , oy_test = train_test_split(ox , oy , test_size=0.2 , random_state=5 , stratify=oy)\n",
    "neuralNetwork.fit(ox_train , oy_train , epochs=50)\n",
    "\n"
   ]
  },
  {
   "cell_type": "code",
   "execution_count": 30,
   "metadata": {},
   "outputs": [
    {
     "name": "stdout",
     "output_type": "stream",
     "text": [
      "63/63 [==============================] - 0s 1ms/step - loss: 0.1202 - accuracy: 0.8425\n",
      "63/63 [==============================] - 0s 1ms/step\n",
      "              precision    recall  f1-score   support\n",
      "\n",
      "         0.0       0.92      0.88      0.90      1660\n",
      "         1.0       0.53      0.64      0.58       340\n",
      "\n",
      "    accuracy                           0.84      2000\n",
      "   macro avg       0.73      0.76      0.74      2000\n",
      "weighted avg       0.86      0.84      0.85      2000\n",
      "\n"
     ]
    }
   ],
   "source": [
    "\n",
    "neuralNetwork.evaluate(ox_test , oy_test)\n",
    "oy_prediction = np.round(neuralNetwork.predict(ox_test))\n",
    "from sklearn.metrics import classification_report\n",
    "print(classification_report(oy_prediction , oy_test))"
   ]
  },
  {
   "cell_type": "code",
   "execution_count": 31,
   "metadata": {},
   "outputs": [
    {
     "data": {
      "image/png": "[encoded data removed]",
      "text/plain": [
       "<Figure size 1000x700 with 2 Axes>"
      ]
     },
     "metadata": {},
     "output_type": "display_data"
    }
   ],
   "source": [
    "\n",
    "cm = tf.math.confusion_matrix(labels = oy_test , predictions = oy_prediction)\n",
    "plt.figure(figsize=(10,7))\n",
    "sn.heatmap(cm , annot = True , fmt = 'd')\n",
    "plt.xlabel('Predicted')\n",
    "plt.ylabel('Truth')\n",
    "plt.show()"
   ]
  },
  {
   "cell_type": "code",
   "execution_count": 32,
   "metadata": {},
   "outputs": [],
   "source": [
    "######SMOTE"
   ]
  },
  {
   "cell_type": "code",
   "execution_count": 33,
   "metadata": {},
   "outputs": [
    {
     "data": {
      "text/plain": [
       "((10000, 12), (10000,))"
      ]
     },
     "execution_count": 33,
     "metadata": {},
     "output_type": "execute_result"
    }
   ],
   "source": [
    "x = data.drop('Exited' , axis='columns')\n",
    "y = data['Exited']\n",
    "x.shape , y.shape"
   ]
  },
  {
   "cell_type": "code",
   "execution_count": 50,
   "metadata": {},
   "outputs": [
    {
     "data": {
      "text/plain": [
       "Exited\n",
       "1    7963\n",
       "0    7963\n",
       "Name: count, dtype: int64"
      ]
     },
     "execution_count": 50,
     "metadata": {},
     "output_type": "execute_result"
    }
   ],
   "source": [
    "from imblearn.over_sampling import SMOTE \n",
    "smote = SMOTE(sampling_strategy='minority')\n",
    "x_sm , y_sm = smote.fit_resample(x ,y)\n",
    "y_sm.value_counts()"
   ]
  },
  {
   "cell_type": "code",
   "execution_count": 58,
   "metadata": {},
   "outputs": [
    {
     "name": "stdout",
     "output_type": "stream",
     "text": [
      "Epoch 1/50\n",
      "399/399 [==============================] - 0s 1ms/step - loss: 0.1165 - accuracy: 0.8386\n",
      "Epoch 2/50\n",
      "399/399 [==============================] - 0s 1ms/step - loss: 0.1073 - accuracy: 0.8487\n",
      "Epoch 3/50\n",
      "399/399 [==============================] - 1s 1ms/step - loss: 0.1032 - accuracy: 0.8577\n",
      "Epoch 4/50\n",
      "399/399 [==============================] - 1s 1ms/step - loss: 0.1007 - accuracy: 0.8605\n",
      "Epoch 5/50\n",
      "399/399 [==============================] - 1s 1ms/step - loss: 0.0979 - accuracy: 0.8666\n",
      "Epoch 6/50\n",
      "399/399 [==============================] - 1s 1ms/step - loss: 0.0947 - accuracy: 0.8715\n",
      "Epoch 7/50\n",
      "399/399 [==============================] - 1s 1ms/step - loss: 0.0938 - accuracy: 0.8728\n",
      "Epoch 8/50\n",
      "399/399 [==============================] - 1s 1ms/step - loss: 0.0930 - accuracy: 0.8753\n",
      "Epoch 9/50\n",
      "399/399 [==============================] - 1s 1ms/step - loss: 0.0894 - accuracy: 0.8787\n",
      "Epoch 10/50\n",
      "399/399 [==============================] - 0s 1ms/step - loss: 0.0889 - accuracy: 0.8816\n",
      "Epoch 11/50\n",
      "399/399 [==============================] - 0s 1ms/step - loss: 0.0866 - accuracy: 0.8866\n",
      "Epoch 12/50\n",
      "399/399 [==============================] - 1s 1ms/step - loss: 0.0839 - accuracy: 0.8872\n",
      "Epoch 13/50\n",
      "399/399 [==============================] - 1s 1ms/step - loss: 0.0844 - accuracy: 0.8905\n",
      "Epoch 14/50\n",
      "399/399 [==============================] - 1s 1ms/step - loss: 0.0830 - accuracy: 0.8896\n",
      "Epoch 15/50\n",
      "399/399 [==============================] - 1s 2ms/step - loss: 0.0811 - accuracy: 0.8913\n",
      "Epoch 16/50\n",
      "399/399 [==============================] - 1s 2ms/step - loss: 0.0802 - accuracy: 0.8941\n",
      "Epoch 17/50\n",
      "399/399 [==============================] - 1s 2ms/step - loss: 0.0830 - accuracy: 0.8900\n",
      "Epoch 18/50\n",
      "399/399 [==============================] - 1s 2ms/step - loss: 0.0781 - accuracy: 0.8973\n",
      "Epoch 19/50\n",
      "399/399 [==============================] - 1s 2ms/step - loss: 0.0768 - accuracy: 0.9014\n",
      "Epoch 20/50\n",
      "399/399 [==============================] - 1s 2ms/step - loss: 0.0766 - accuracy: 0.9005\n",
      "Epoch 21/50\n",
      "399/399 [==============================] - 1s 1ms/step - loss: 0.0750 - accuracy: 0.9010\n",
      "Epoch 22/50\n",
      "399/399 [==============================] - 1s 2ms/step - loss: 0.0733 - accuracy: 0.9032\n",
      "Epoch 23/50\n",
      "399/399 [==============================] - 1s 2ms/step - loss: 0.0741 - accuracy: 0.9036\n",
      "Epoch 24/50\n",
      "399/399 [==============================] - 1s 1ms/step - loss: 0.0719 - accuracy: 0.9086\n",
      "Epoch 25/50\n",
      "399/399 [==============================] - 0s 1ms/step - loss: 0.0710 - accuracy: 0.9088\n",
      "Epoch 26/50\n",
      "399/399 [==============================] - 1s 1ms/step - loss: 0.0715 - accuracy: 0.9064\n",
      "Epoch 27/50\n",
      "399/399 [==============================] - 1s 2ms/step - loss: 0.0699 - accuracy: 0.9107\n",
      "Epoch 28/50\n",
      "399/399 [==============================] - 1s 2ms/step - loss: 0.0680 - accuracy: 0.9128\n",
      "Epoch 29/50\n",
      "399/399 [==============================] - 1s 2ms/step - loss: 0.0678 - accuracy: 0.9137\n",
      "Epoch 30/50\n",
      "399/399 [==============================] - 1s 1ms/step - loss: 0.0687 - accuracy: 0.9114\n",
      "Epoch 31/50\n",
      "399/399 [==============================] - 1s 1ms/step - loss: 0.0655 - accuracy: 0.9161\n",
      "Epoch 32/50\n",
      "399/399 [==============================] - 1s 1ms/step - loss: 0.0662 - accuracy: 0.9169\n",
      "Epoch 33/50\n",
      "399/399 [==============================] - 1s 1ms/step - loss: 0.0671 - accuracy: 0.9148\n",
      "Epoch 34/50\n",
      "399/399 [==============================] - 1s 1ms/step - loss: 0.0640 - accuracy: 0.9196\n",
      "Epoch 35/50\n",
      "399/399 [==============================] - 1s 2ms/step - loss: 0.0629 - accuracy: 0.9210\n",
      "Epoch 36/50\n",
      "399/399 [==============================] - 1s 2ms/step - loss: 0.0634 - accuracy: 0.9203\n",
      "Epoch 37/50\n",
      "399/399 [==============================] - 1s 2ms/step - loss: 0.0651 - accuracy: 0.9149\n",
      "Epoch 38/50\n",
      "399/399 [==============================] - 1s 2ms/step - loss: 0.0593 - accuracy: 0.9249\n",
      "Epoch 39/50\n",
      "399/399 [==============================] - 1s 2ms/step - loss: 0.0598 - accuracy: 0.9261\n",
      "Epoch 40/50\n",
      "399/399 [==============================] - 1s 2ms/step - loss: 0.0625 - accuracy: 0.9188\n",
      "Epoch 41/50\n",
      "399/399 [==============================] - 1s 2ms/step - loss: 0.0592 - accuracy: 0.9253\n",
      "Epoch 42/50\n",
      "399/399 [==============================] - 1s 2ms/step - loss: 0.0601 - accuracy: 0.9249\n",
      "Epoch 43/50\n",
      "399/399 [==============================] - 1s 2ms/step - loss: 0.0582 - accuracy: 0.9271\n",
      "Epoch 44/50\n",
      "399/399 [==============================] - 1s 2ms/step - loss: 0.0550 - accuracy: 0.9330\n",
      "Epoch 45/50\n",
      "399/399 [==============================] - 1s 1ms/step - loss: 0.0577 - accuracy: 0.9277\n",
      "Epoch 46/50\n",
      "399/399 [==============================] - 0s 1ms/step - loss: 0.0575 - accuracy: 0.9276\n",
      "Epoch 47/50\n",
      "399/399 [==============================] - 0s 1ms/step - loss: 0.0590 - accuracy: 0.9260\n",
      "Epoch 48/50\n",
      "399/399 [==============================] - 1s 1ms/step - loss: 0.0558 - accuracy: 0.9312\n",
      "Epoch 49/50\n",
      "399/399 [==============================] - 1s 2ms/step - loss: 0.0550 - accuracy: 0.9333\n",
      "Epoch 50/50\n",
      "399/399 [==============================] - 1s 2ms/step - loss: 0.0564 - accuracy: 0.9300\n"
     ]
    },
    {
     "data": {
      "text/plain": [
       "<keras.src.callbacks.History at 0x2200f9cbb50>"
      ]
     },
     "execution_count": 58,
     "metadata": {},
     "output_type": "execute_result"
    }
   ],
   "source": [
    "sx_train , sx_test , sy_train , sy_test = train_test_split(x_sm , y_sm , test_size=0.2 , random_state=5 , stratify=y_sm)\n",
    "neuralNetwork.fit(sx_train , sy_train , epochs=50)"
   ]
  },
  {
   "cell_type": "code",
   "execution_count": 59,
   "metadata": {},
   "outputs": [
    {
     "name": "stdout",
     "output_type": "stream",
     "text": [
      "100/100 [==============================] - 0s 1ms/step - loss: 0.1079 - accuracy: 0.8675\n",
      "100/100 [==============================] - 0s 1ms/step\n",
      "              precision    recall  f1-score   support\n",
      "\n",
      "         0.0       0.86      0.87      0.87      1565\n",
      "         1.0       0.88      0.86      0.87      1621\n",
      "\n",
      "    accuracy                           0.87      3186\n",
      "   macro avg       0.87      0.87      0.87      3186\n",
      "weighted avg       0.87      0.87      0.87      3186\n",
      "\n"
     ]
    }
   ],
   "source": [
    "neuralNetwork.evaluate(sx_test , sy_test)\n",
    "sy_prediction = np.round(neuralNetwork.predict(sx_test))\n",
    "from sklearn.metrics import classification_report\n",
    "print(classification_report(sy_prediction , sy_test))"
   ]
  },
  {
   "cell_type": "code",
   "execution_count": 60,
   "metadata": {},
   "outputs": [
    {
     "data": {
      "image/png": "[encoded data removed]",
      "text/plain": [
       "<Figure size 1000x700 with 2 Axes>"
      ]
     },
     "metadata": {},
     "output_type": "display_data"
    }
   ],
   "source": [
    "\n",
    "cm = tf.math.confusion_matrix(labels = sy_test , predictions = sy_prediction)\n",
    "plt.figure(figsize=(10,7))\n",
    "sn.heatmap(cm , annot = True , fmt = 'd')\n",
    "plt.xlabel('Predicted')\n",
    "plt.ylabel('Truth')\n",
    "plt.show()"
   ]
  },
  {
   "cell_type": "code",
   "execution_count": 61,
   "metadata": {},
   "outputs": [],
   "source": [
    "####Ensemble with undersampling"
   ]
  },
  {
   "cell_type": "code",
   "execution_count": 71,
   "metadata": {},
   "outputs": [
    {
     "data": {
      "text/plain": [
       "1990.75"
      ]
     },
     "execution_count": 71,
     "metadata": {},
     "output_type": "execute_result"
    }
   ],
   "source": [
    "#0 is major class\n",
    "y.value_counts()\n",
    "7963/4"
   ]
  },
  {
   "cell_type": "code",
   "execution_count": 73,
   "metadata": {},
   "outputs": [],
   "source": [
    "data_0 = data[data['Exited'] == 0]\n",
    "data_1 = data[data['Exited'] == 1]"
   ]
  },
  {
   "cell_type": "code",
   "execution_count": 79,
   "metadata": {},
   "outputs": [
    {
     "data": {
      "text/plain": [
       "((3222, 12), (3222,))"
      ]
     },
     "execution_count": 79,
     "metadata": {},
     "output_type": "execute_result"
    }
   ],
   "source": [
    "data_e1 = pd.concat([data[:1991] , data_1])\n",
    "e1x = data_e1.drop('Exited' , axis = 'columns')\n",
    "e1y = data_e1['Exited']\n",
    "e1x_train , e1x_test , e1y_train , e1y_test = train_test_split(e1x , e1y , test_size=0.2 , random_state= 10,stratify=e1y)\n",
    "e1x_train.shape , e1y_train.shape"
   ]
  },
  {
   "cell_type": "code",
   "execution_count": 84,
   "metadata": {},
   "outputs": [
    {
     "data": {
      "text/plain": [
       "((3222, 12), (3222,))"
      ]
     },
     "execution_count": 84,
     "metadata": {},
     "output_type": "execute_result"
    }
   ],
   "source": [
    "data_e2 = pd.concat([data[1991:1991*2] , data_1])\n",
    "e2x = data_e2.drop('Exited' , axis = 'columns')\n",
    "e2y = data_e2['Exited']\n",
    "e2x_train , e2x_test , e2y_train , e2y_test = train_test_split(e2x , e2y , test_size=0.2 , random_state= 10,stratify=e2y)\n",
    "e2x_train.shape , e2y_train.shape"
   ]
  },
  {
   "cell_type": "code",
   "execution_count": 88,
   "metadata": {},
   "outputs": [
    {
     "data": {
      "text/plain": [
       "((3222, 12), (3222,))"
      ]
     },
     "execution_count": 88,
     "metadata": {},
     "output_type": "execute_result"
    }
   ],
   "source": [
    "data_e3 = pd.concat([data[len(data_1)-1992:len(data_1)-1] , data_1])\n",
    "e3x = data_e3.drop('Exited' , axis = 'columns')\n",
    "e3y = data_e1['Exited']\n",
    "e3x_train , e3x_test , e3y_train , e3y_test = train_test_split(e3x , e3y , test_size=0.2 , random_state= 10,stratify=e3y)\n",
    "e3x_train.shape , e3y_train.shape"
   ]
  },
  {
   "cell_type": "code",
   "execution_count": 90,
   "metadata": {},
   "outputs": [
    {
     "name": "stdout",
     "output_type": "stream",
     "text": [
      "Epoch 1/50\n",
      "101/101 [==============================] - 0s 1ms/step - loss: 0.0980 - accuracy: 0.8805\n",
      "Epoch 2/50\n",
      "101/101 [==============================] - 0s 2ms/step - loss: 0.0823 - accuracy: 0.8998\n",
      "Epoch 3/50\n",
      "101/101 [==============================] - 0s 3ms/step - loss: 0.0641 - accuracy: 0.9249\n",
      "Epoch 4/50\n",
      "101/101 [==============================] - 0s 2ms/step - loss: 0.0606 - accuracy: 0.9255\n",
      "Epoch 5/50\n",
      "101/101 [==============================] - 0s 2ms/step - loss: 0.0535 - accuracy: 0.9395\n",
      "Epoch 6/50\n",
      "101/101 [==============================] - 0s 2ms/step - loss: 0.0485 - accuracy: 0.9448\n",
      "Epoch 7/50\n",
      "101/101 [==============================] - 0s 1ms/step - loss: 0.0442 - accuracy: 0.9507\n",
      "Epoch 8/50\n",
      "101/101 [==============================] - 0s 1ms/step - loss: 0.0369 - accuracy: 0.9606\n",
      "Epoch 9/50\n",
      "101/101 [==============================] - 0s 1ms/step - loss: 0.0367 - accuracy: 0.9606\n",
      "Epoch 10/50\n",
      "101/101 [==============================] - 0s 1ms/step - loss: 0.0407 - accuracy: 0.9541\n",
      "Epoch 11/50\n",
      "101/101 [==============================] - 0s 1ms/step - loss: 0.0384 - accuracy: 0.9544\n",
      "Epoch 12/50\n",
      "101/101 [==============================] - 0s 2ms/step - loss: 0.0362 - accuracy: 0.9584\n",
      "Epoch 13/50\n",
      "101/101 [==============================] - 0s 1ms/step - loss: 0.0311 - accuracy: 0.9671\n",
      "Epoch 14/50\n",
      "101/101 [==============================] - 0s 1ms/step - loss: 0.0310 - accuracy: 0.9668\n",
      "Epoch 15/50\n",
      "101/101 [==============================] - 0s 1ms/step - loss: 0.0296 - accuracy: 0.9655\n",
      "Epoch 16/50\n",
      "101/101 [==============================] - 0s 1ms/step - loss: 0.0326 - accuracy: 0.9615\n",
      "Epoch 17/50\n",
      "101/101 [==============================] - 0s 1ms/step - loss: 0.0309 - accuracy: 0.9662\n",
      "Epoch 18/50\n",
      "101/101 [==============================] - 0s 1ms/step - loss: 0.0285 - accuracy: 0.9696\n",
      "Epoch 19/50\n",
      "101/101 [==============================] - 0s 1ms/step - loss: 0.0259 - accuracy: 0.9718\n",
      "Epoch 20/50\n",
      "101/101 [==============================] - 0s 1ms/step - loss: 0.0240 - accuracy: 0.9749\n",
      "Epoch 21/50\n",
      "101/101 [==============================] - 0s 2ms/step - loss: 0.0249 - accuracy: 0.9745\n",
      "Epoch 22/50\n",
      "101/101 [==============================] - 0s 2ms/step - loss: 0.0283 - accuracy: 0.9674\n",
      "Epoch 23/50\n",
      "101/101 [==============================] - 0s 2ms/step - loss: 0.0320 - accuracy: 0.9603\n",
      "Epoch 24/50\n",
      "101/101 [==============================] - 0s 2ms/step - loss: 0.0304 - accuracy: 0.9646\n",
      "Epoch 25/50\n",
      "101/101 [==============================] - 0s 2ms/step - loss: 0.0257 - accuracy: 0.9711\n",
      "Epoch 26/50\n",
      "101/101 [==============================] - 0s 2ms/step - loss: 0.0232 - accuracy: 0.9745\n",
      "Epoch 27/50\n",
      "101/101 [==============================] - 0s 2ms/step - loss: 0.0267 - accuracy: 0.9699\n",
      "Epoch 28/50\n",
      "101/101 [==============================] - 0s 2ms/step - loss: 0.0238 - accuracy: 0.9727\n",
      "Epoch 29/50\n",
      "101/101 [==============================] - 0s 2ms/step - loss: 0.0258 - accuracy: 0.9714\n",
      "Epoch 30/50\n",
      "101/101 [==============================] - 0s 2ms/step - loss: 0.0223 - accuracy: 0.9749\n",
      "Epoch 31/50\n",
      "101/101 [==============================] - 0s 2ms/step - loss: 0.0218 - accuracy: 0.9764\n",
      "Epoch 32/50\n",
      "101/101 [==============================] - 0s 1ms/step - loss: 0.0225 - accuracy: 0.9745\n",
      "Epoch 33/50\n",
      "101/101 [==============================] - 0s 1ms/step - loss: 0.0198 - accuracy: 0.9801\n",
      "Epoch 34/50\n",
      "101/101 [==============================] - 0s 1ms/step - loss: 0.0226 - accuracy: 0.9739\n",
      "Epoch 35/50\n",
      "101/101 [==============================] - 0s 1ms/step - loss: 0.0222 - accuracy: 0.9758\n",
      "Epoch 36/50\n",
      "101/101 [==============================] - 0s 1ms/step - loss: 0.0188 - accuracy: 0.9792\n",
      "Epoch 37/50\n",
      "101/101 [==============================] - 0s 1ms/step - loss: 0.0212 - accuracy: 0.9755\n",
      "Epoch 38/50\n",
      "101/101 [==============================] - 0s 1ms/step - loss: 0.0254 - accuracy: 0.9718\n",
      "Epoch 39/50\n",
      "101/101 [==============================] - 0s 2ms/step - loss: 0.0223 - accuracy: 0.9761\n",
      "Epoch 40/50\n",
      "101/101 [==============================] - 0s 2ms/step - loss: 0.0222 - accuracy: 0.9752\n",
      "Epoch 41/50\n",
      "101/101 [==============================] - 0s 2ms/step - loss: 0.0178 - accuracy: 0.9814\n",
      "Epoch 42/50\n",
      "101/101 [==============================] - 0s 2ms/step - loss: 0.0170 - accuracy: 0.9823\n",
      "Epoch 43/50\n",
      "101/101 [==============================] - 0s 2ms/step - loss: 0.0191 - accuracy: 0.9792\n",
      "Epoch 44/50\n",
      "101/101 [==============================] - 0s 2ms/step - loss: 0.0159 - accuracy: 0.9842\n",
      "Epoch 45/50\n",
      "101/101 [==============================] - 0s 2ms/step - loss: 0.0144 - accuracy: 0.9860\n",
      "Epoch 46/50\n",
      "101/101 [==============================] - 0s 1ms/step - loss: 0.0140 - accuracy: 0.9863\n",
      "Epoch 47/50\n",
      "101/101 [==============================] - 0s 1ms/step - loss: 0.0140 - accuracy: 0.9860\n",
      "Epoch 48/50\n",
      "101/101 [==============================] - 0s 1ms/step - loss: 0.0139 - accuracy: 0.9863\n",
      "Epoch 49/50\n",
      "101/101 [==============================] - 0s 1ms/step - loss: 0.0136 - accuracy: 0.9857\n",
      "Epoch 50/50\n",
      "101/101 [==============================] - 0s 1ms/step - loss: 0.0136 - accuracy: 0.9863\n",
      "Epoch 1/50\n",
      "101/101 [==============================] - 0s 1ms/step - loss: 0.1207 - accuracy: 0.8616\n",
      "Epoch 2/50\n",
      "101/101 [==============================] - 0s 1ms/step - loss: 0.1338 - accuracy: 0.8461\n",
      "Epoch 3/50\n",
      "101/101 [==============================] - 0s 1ms/step - loss: 0.1123 - accuracy: 0.8715\n",
      "Epoch 4/50\n",
      "101/101 [==============================] - 0s 1ms/step - loss: 0.0929 - accuracy: 0.8883\n",
      "Epoch 5/50\n",
      "101/101 [==============================] - 0s 1ms/step - loss: 0.0809 - accuracy: 0.9019\n",
      "Epoch 6/50\n",
      "101/101 [==============================] - 0s 1ms/step - loss: 0.0708 - accuracy: 0.9187\n",
      "Epoch 7/50\n",
      "101/101 [==============================] - 0s 1ms/step - loss: 0.0600 - accuracy: 0.9320\n",
      "Epoch 8/50\n",
      "101/101 [==============================] - 0s 1ms/step - loss: 0.0632 - accuracy: 0.9243\n",
      "Epoch 9/50\n",
      "101/101 [==============================] - 0s 1ms/step - loss: 0.0514 - accuracy: 0.9420\n",
      "Epoch 10/50\n",
      "101/101 [==============================] - 0s 2ms/step - loss: 0.0506 - accuracy: 0.9404\n",
      "Epoch 11/50\n",
      "101/101 [==============================] - 0s 2ms/step - loss: 0.0499 - accuracy: 0.9420\n",
      "Epoch 12/50\n",
      "101/101 [==============================] - 0s 2ms/step - loss: 0.0487 - accuracy: 0.9463\n",
      "Epoch 13/50\n",
      "101/101 [==============================] - 0s 2ms/step - loss: 0.0456 - accuracy: 0.9457\n",
      "Epoch 14/50\n",
      "101/101 [==============================] - 0s 2ms/step - loss: 0.0440 - accuracy: 0.9510\n",
      "Epoch 15/50\n",
      "101/101 [==============================] - 0s 2ms/step - loss: 0.0415 - accuracy: 0.9538\n",
      "Epoch 16/50\n",
      "101/101 [==============================] - 0s 2ms/step - loss: 0.0342 - accuracy: 0.9649\n",
      "Epoch 17/50\n",
      "101/101 [==============================] - 0s 2ms/step - loss: 0.0366 - accuracy: 0.9606\n",
      "Epoch 18/50\n",
      "101/101 [==============================] - 0s 2ms/step - loss: 0.0402 - accuracy: 0.9541\n",
      "Epoch 19/50\n",
      "101/101 [==============================] - 0s 2ms/step - loss: 0.0372 - accuracy: 0.9581\n",
      "Epoch 20/50\n",
      "101/101 [==============================] - 0s 2ms/step - loss: 0.0342 - accuracy: 0.9612\n",
      "Epoch 21/50\n",
      "101/101 [==============================] - 0s 1ms/step - loss: 0.0329 - accuracy: 0.9640\n",
      "Epoch 22/50\n",
      "101/101 [==============================] - 0s 1ms/step - loss: 0.0359 - accuracy: 0.9581\n",
      "Epoch 23/50\n",
      "101/101 [==============================] - 0s 1ms/step - loss: 0.0366 - accuracy: 0.9587\n",
      "Epoch 24/50\n",
      "101/101 [==============================] - 0s 1ms/step - loss: 0.0335 - accuracy: 0.9618\n",
      "Epoch 25/50\n",
      "101/101 [==============================] - 0s 1ms/step - loss: 0.0325 - accuracy: 0.9643\n",
      "Epoch 26/50\n",
      "101/101 [==============================] - 0s 1ms/step - loss: 0.0345 - accuracy: 0.9603\n",
      "Epoch 27/50\n",
      "101/101 [==============================] - 0s 1ms/step - loss: 0.0333 - accuracy: 0.9628\n",
      "Epoch 28/50\n",
      "101/101 [==============================] - 0s 1ms/step - loss: 0.0287 - accuracy: 0.9690\n",
      "Epoch 29/50\n",
      "101/101 [==============================] - 0s 2ms/step - loss: 0.0280 - accuracy: 0.9699\n",
      "Epoch 30/50\n",
      "101/101 [==============================] - 0s 2ms/step - loss: 0.0243 - accuracy: 0.9752\n",
      "Epoch 31/50\n",
      "101/101 [==============================] - 0s 2ms/step - loss: 0.0237 - accuracy: 0.9755\n",
      "Epoch 32/50\n",
      "101/101 [==============================] - 0s 2ms/step - loss: 0.0259 - accuracy: 0.9733\n",
      "Epoch 33/50\n",
      "101/101 [==============================] - 0s 2ms/step - loss: 0.0325 - accuracy: 0.9631\n",
      "Epoch 34/50\n",
      "101/101 [==============================] - 0s 1ms/step - loss: 0.0332 - accuracy: 0.9603\n",
      "Epoch 35/50\n",
      "101/101 [==============================] - 0s 1ms/step - loss: 0.0309 - accuracy: 0.9665\n",
      "Epoch 36/50\n",
      "101/101 [==============================] - 0s 1ms/step - loss: 0.0270 - accuracy: 0.9705\n",
      "Epoch 37/50\n",
      "101/101 [==============================] - 0s 1ms/step - loss: 0.0253 - accuracy: 0.9742\n",
      "Epoch 38/50\n",
      "101/101 [==============================] - 0s 1ms/step - loss: 0.0237 - accuracy: 0.9755\n",
      "Epoch 39/50\n",
      "101/101 [==============================] - 0s 1ms/step - loss: 0.0232 - accuracy: 0.9761\n",
      "Epoch 40/50\n",
      "101/101 [==============================] - 0s 1ms/step - loss: 0.0237 - accuracy: 0.9745\n",
      "Epoch 41/50\n",
      "101/101 [==============================] - 0s 1ms/step - loss: 0.0246 - accuracy: 0.9742\n",
      "Epoch 42/50\n",
      "101/101 [==============================] - 0s 1ms/step - loss: 0.0261 - accuracy: 0.9714\n",
      "Epoch 43/50\n",
      "101/101 [==============================] - 0s 1ms/step - loss: 0.0368 - accuracy: 0.9556\n",
      "Epoch 44/50\n",
      "101/101 [==============================] - 0s 1ms/step - loss: 0.0372 - accuracy: 0.9569\n",
      "Epoch 45/50\n",
      "101/101 [==============================] - 0s 1ms/step - loss: 0.0334 - accuracy: 0.9631\n",
      "Epoch 46/50\n",
      "101/101 [==============================] - 0s 2ms/step - loss: 0.0336 - accuracy: 0.9606\n",
      "Epoch 47/50\n",
      "101/101 [==============================] - 0s 1ms/step - loss: 0.0279 - accuracy: 0.9702\n",
      "Epoch 48/50\n",
      "101/101 [==============================] - 0s 1ms/step - loss: 0.0343 - accuracy: 0.9615\n",
      "Epoch 49/50\n",
      "101/101 [==============================] - 0s 2ms/step - loss: 0.0294 - accuracy: 0.9680\n",
      "Epoch 50/50\n",
      "101/101 [==============================] - 0s 2ms/step - loss: 0.0303 - accuracy: 0.9665\n",
      "Epoch 1/50\n",
      "101/101 [==============================] - 0s 2ms/step - loss: 0.2018 - accuracy: 0.7815\n",
      "Epoch 2/50\n",
      "101/101 [==============================] - 0s 1ms/step - loss: 0.1879 - accuracy: 0.7874\n",
      "Epoch 3/50\n",
      "101/101 [==============================] - 0s 1ms/step - loss: 0.1748 - accuracy: 0.7942\n",
      "Epoch 4/50\n",
      "101/101 [==============================] - 0s 1ms/step - loss: 0.1565 - accuracy: 0.8113\n",
      "Epoch 5/50\n",
      "101/101 [==============================] - 0s 1ms/step - loss: 0.1509 - accuracy: 0.8243\n",
      "Epoch 6/50\n",
      "101/101 [==============================] - 0s 2ms/step - loss: 0.1357 - accuracy: 0.8420\n",
      "Epoch 7/50\n",
      "101/101 [==============================] - 0s 2ms/step - loss: 0.1304 - accuracy: 0.8482\n",
      "Epoch 8/50\n",
      "101/101 [==============================] - 0s 2ms/step - loss: 0.1303 - accuracy: 0.8489\n",
      "Epoch 9/50\n",
      "101/101 [==============================] - 0s 2ms/step - loss: 0.1212 - accuracy: 0.8616\n",
      "Epoch 10/50\n",
      "101/101 [==============================] - 0s 2ms/step - loss: 0.1194 - accuracy: 0.8622\n",
      "Epoch 11/50\n",
      "101/101 [==============================] - 0s 2ms/step - loss: 0.1152 - accuracy: 0.8669\n",
      "Epoch 12/50\n",
      "101/101 [==============================] - 0s 2ms/step - loss: 0.1125 - accuracy: 0.8724\n",
      "Epoch 13/50\n",
      "101/101 [==============================] - 0s 2ms/step - loss: 0.1141 - accuracy: 0.8690\n",
      "Epoch 14/50\n",
      "101/101 [==============================] - 0s 2ms/step - loss: 0.1159 - accuracy: 0.8659\n",
      "Epoch 15/50\n",
      "101/101 [==============================] - 0s 2ms/step - loss: 0.1113 - accuracy: 0.8734\n",
      "Epoch 16/50\n",
      "101/101 [==============================] - 0s 2ms/step - loss: 0.1084 - accuracy: 0.8768\n",
      "Epoch 17/50\n",
      "101/101 [==============================] - 0s 2ms/step - loss: 0.1078 - accuracy: 0.8743\n",
      "Epoch 18/50\n",
      "101/101 [==============================] - 0s 2ms/step - loss: 0.1048 - accuracy: 0.8793\n",
      "Epoch 19/50\n",
      "101/101 [==============================] - 0s 2ms/step - loss: 0.1036 - accuracy: 0.8836\n",
      "Epoch 20/50\n",
      "101/101 [==============================] - 0s 2ms/step - loss: 0.1046 - accuracy: 0.8774\n",
      "Epoch 21/50\n",
      "101/101 [==============================] - 0s 2ms/step - loss: 0.1018 - accuracy: 0.8842\n",
      "Epoch 22/50\n",
      "101/101 [==============================] - 0s 2ms/step - loss: 0.0987 - accuracy: 0.8873\n",
      "Epoch 23/50\n",
      "101/101 [==============================] - 0s 2ms/step - loss: 0.1010 - accuracy: 0.8836\n",
      "Epoch 24/50\n",
      "101/101 [==============================] - 0s 2ms/step - loss: 0.0974 - accuracy: 0.8861\n",
      "Epoch 25/50\n",
      "101/101 [==============================] - 1s 5ms/step - loss: 0.0955 - accuracy: 0.8901\n",
      "Epoch 26/50\n",
      "101/101 [==============================] - 0s 5ms/step - loss: 0.0967 - accuracy: 0.8901\n",
      "Epoch 27/50\n",
      "101/101 [==============================] - 0s 5ms/step - loss: 0.0983 - accuracy: 0.8864\n",
      "Epoch 28/50\n",
      "101/101 [==============================] - 0s 3ms/step - loss: 0.0975 - accuracy: 0.8852\n",
      "Epoch 29/50\n",
      "101/101 [==============================] - 0s 3ms/step - loss: 0.0972 - accuracy: 0.8855\n",
      "Epoch 30/50\n",
      "101/101 [==============================] - 0s 2ms/step - loss: 0.0981 - accuracy: 0.8839\n",
      "Epoch 31/50\n",
      "101/101 [==============================] - 1s 6ms/step - loss: 0.0984 - accuracy: 0.8845\n",
      "Epoch 32/50\n",
      "101/101 [==============================] - 0s 4ms/step - loss: 0.0965 - accuracy: 0.8830\n",
      "Epoch 33/50\n",
      "101/101 [==============================] - 0s 4ms/step - loss: 0.0953 - accuracy: 0.8883\n",
      "Epoch 34/50\n",
      "101/101 [==============================] - 0s 3ms/step - loss: 0.0926 - accuracy: 0.8926\n",
      "Epoch 35/50\n",
      "101/101 [==============================] - 0s 3ms/step - loss: 0.0927 - accuracy: 0.8911\n",
      "Epoch 36/50\n",
      "101/101 [==============================] - 0s 3ms/step - loss: 0.0972 - accuracy: 0.8836\n",
      "Epoch 37/50\n",
      "101/101 [==============================] - 0s 3ms/step - loss: 0.0947 - accuracy: 0.8901\n",
      "Epoch 38/50\n",
      "101/101 [==============================] - 0s 3ms/step - loss: 0.0944 - accuracy: 0.8864\n",
      "Epoch 39/50\n",
      "101/101 [==============================] - 0s 2ms/step - loss: 0.0958 - accuracy: 0.8855\n",
      "Epoch 40/50\n",
      "101/101 [==============================] - 0s 4ms/step - loss: 0.0943 - accuracy: 0.8883\n",
      "Epoch 41/50\n",
      "101/101 [==============================] - 0s 3ms/step - loss: 0.0908 - accuracy: 0.8923\n",
      "Epoch 42/50\n",
      "101/101 [==============================] - 0s 3ms/step - loss: 0.0903 - accuracy: 0.8951\n",
      "Epoch 43/50\n",
      "101/101 [==============================] - 0s 3ms/step - loss: 0.0917 - accuracy: 0.8917\n",
      "Epoch 44/50\n",
      "101/101 [==============================] - 0s 3ms/step - loss: 0.0896 - accuracy: 0.8939\n",
      "Epoch 45/50\n",
      "101/101 [==============================] - 0s 3ms/step - loss: 0.0891 - accuracy: 0.8935\n",
      "Epoch 46/50\n",
      "101/101 [==============================] - 1s 5ms/step - loss: 0.0889 - accuracy: 0.8942\n",
      "Epoch 47/50\n",
      "101/101 [==============================] - 0s 3ms/step - loss: 0.0898 - accuracy: 0.8935\n",
      "Epoch 48/50\n",
      "101/101 [==============================] - 0s 3ms/step - loss: 0.0901 - accuracy: 0.8926\n",
      "Epoch 49/50\n",
      "101/101 [==============================] - 0s 3ms/step - loss: 0.0954 - accuracy: 0.8858\n",
      "Epoch 50/50\n",
      "101/101 [==============================] - 0s 3ms/step - loss: 0.0939 - accuracy: 0.8917\n"
     ]
    },
    {
     "data": {
      "text/plain": [
       "<keras.src.callbacks.History at 0x220127bd990>"
      ]
     },
     "execution_count": 90,
     "metadata": {},
     "output_type": "execute_result"
    }
   ],
   "source": [
    "neuralNetwork.fit(e1x_train , e1y_train , epochs = 50)\n",
    "neuralNetwork.fit(e2x_train , e3y_train , epochs = 50)\n",
    "neuralNetwork.fit(e3x_train , e3y_train , epochs = 50)"
   ]
  },
  {
   "cell_type": "code",
   "execution_count": 91,
   "metadata": {},
   "outputs": [
    {
     "name": "stdout",
     "output_type": "stream",
     "text": [
      "26/26 [==============================] - 0s 1ms/step - loss: 0.1760 - accuracy: 0.7779\n",
      "26/26 [==============================] - 0s 960us/step\n",
      "              precision    recall  f1-score   support\n",
      "\n",
      "         0.0       0.74      0.71      0.73       326\n",
      "         1.0       0.81      0.83      0.82       480\n",
      "\n",
      "    accuracy                           0.78       806\n",
      "   macro avg       0.77      0.77      0.77       806\n",
      "weighted avg       0.78      0.78      0.78       806\n",
      "\n"
     ]
    }
   ],
   "source": [
    "neuralNetwork.evaluate(e1x_test , e2y_test)\n",
    "e1y_prediction = np.round(neuralNetwork.predict(e1x_test))\n",
    "from sklearn.metrics import classification_report\n",
    "print(classification_report(e1y_prediction , e1y_test))"
   ]
  }
 ],
 "metadata": {
  "kernelspec": {
   "display_name": "Python 3",
   "language": "python",
   "name": "python3"
  },
  "language_info": {
   "codemirror_mode": {
    "name": "ipython",
    "version": 3
   },
   "file_extension": ".py",
   "mimetype": "text/x-python",
   "name": "python",
   "nbconvert_exporter": "python",
   "pygments_lexer": "ipython3",
   "version": "3.11.4"
  },
  "orig_nbformat": 4
 },
 "nbformat": 4,
 "nbformat_minor": 2
}
